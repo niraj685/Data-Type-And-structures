{
  "nbformat": 4,
  "nbformat_minor": 0,
  "metadata": {
    "colab": {
      "provenance": []
    },
    "kernelspec": {
      "name": "python3",
      "display_name": "Python 3"
    },
    "language_info": {
      "name": "python"
    }
  },
  "cells": [
    {
      "cell_type": "code",
      "execution_count": null,
      "metadata": {
        "id": "HvJZIHpAfyQz"
      },
      "outputs": [],
      "source": []
    },
    {
      "cell_type": "markdown",
      "source": [
        "# Data Type And structures\n",
        "\n",
        "1.  What are data structures, and why are they important?\n",
        "\n",
        "  - Data structure:\n",
        "     - Data structures are specialized formats for organizing, storing, and accessing collections of data. They provide efficient ways to manage information based on its characteristics and intended use.\n",
        "    - Think of them as containers that hold your data and determine how you can interact with it. Different containers are better suited for different types of items.\n",
        "\n",
        "2.  Explain the difference between mutable and immutable data types with examples?\n",
        "  - mutable:\n",
        "    - In python, mutable means whether the value of and object can be changed after it is created.\n",
        "  and object and container whose state or value can be changed after they are created are called as mutable object. list is a mutble object. list,dictionary and sets are mutable.\n",
        "  \n",
        "example\n",
        "\n",
        "\n",
        "\n"
      ],
      "metadata": {
        "id": "3MhPjWfrghEf"
      }
    },
    {
      "cell_type": "code",
      "source": [
        "lis = [1,2,3]\n",
        "lis[0] = 4\n",
        "lis"
      ],
      "metadata": {
        "colab": {
          "base_uri": "https://localhost:8080/"
        },
        "id": "VWkAi6CJlaEv",
        "outputId": "0bfa6b50-477c-43fe-abe1-7f165341b8f1"
      },
      "execution_count": null,
      "outputs": [
        {
          "output_type": "execute_result",
          "data": {
            "text/plain": [
              "[4, 2, 3]"
            ]
          },
          "metadata": {},
          "execution_count": 1
        }
      ]
    },
    {
      "cell_type": "markdown",
      "source": [
        "  - immutable:\n",
        "    - In python, immutable means whether the value of and object cannot be changed after it is created its called immutable.\n",
        "    - if we try to change them, python create a new object instead of modifying the original one. string,tuple and boolean are immutable.\n",
        "  \n",
        "example\n"
      ],
      "metadata": {
        "id": "SR75Z6EjlyTo"
      }
    },
    {
      "cell_type": "code",
      "source": [
        "name = \"neeraj\"\n",
        "name[0] = \"s\"\n",
        "print(name)\n"
      ],
      "metadata": {
        "colab": {
          "base_uri": "https://localhost:8080/",
          "height": 176
        },
        "id": "DBgGdFqSnOnH",
        "outputId": "6d52a182-41af-499e-e19c-6a0db89678f9"
      },
      "execution_count": null,
      "outputs": [
        {
          "output_type": "error",
          "ename": "TypeError",
          "evalue": "'str' object does not support item assignment",
          "traceback": [
            "\u001b[0;31m---------------------------------------------------------------------------\u001b[0m",
            "\u001b[0;31mTypeError\u001b[0m                                 Traceback (most recent call last)",
            "\u001b[0;32m/tmp/ipython-input-3282692778.py\u001b[0m in \u001b[0;36m<cell line: 0>\u001b[0;34m()\u001b[0m\n\u001b[1;32m      1\u001b[0m \u001b[0mname\u001b[0m \u001b[0;34m=\u001b[0m \u001b[0;34m\"neeraj\"\u001b[0m\u001b[0;34m\u001b[0m\u001b[0;34m\u001b[0m\u001b[0m\n\u001b[0;32m----> 2\u001b[0;31m \u001b[0mname\u001b[0m\u001b[0;34m[\u001b[0m\u001b[0;36m0\u001b[0m\u001b[0;34m]\u001b[0m \u001b[0;34m=\u001b[0m \u001b[0;34m\"s\"\u001b[0m\u001b[0;34m\u001b[0m\u001b[0;34m\u001b[0m\u001b[0m\n\u001b[0m\u001b[1;32m      3\u001b[0m \u001b[0mprint\u001b[0m\u001b[0;34m(\u001b[0m\u001b[0mname\u001b[0m\u001b[0;34m)\u001b[0m\u001b[0;34m\u001b[0m\u001b[0;34m\u001b[0m\u001b[0m\n",
            "\u001b[0;31mTypeError\u001b[0m: 'str' object does not support item assignment"
          ]
        }
      ]
    },
    {
      "cell_type": "code",
      "source": [
        "name =\"neeraj\"\n",
        "name = name + \"kumar\"\n",
        "print(name)"
      ],
      "metadata": {
        "colab": {
          "base_uri": "https://localhost:8080/"
        },
        "id": "ljfO4OKanyyA",
        "outputId": "57a025cb-b1e8-418e-e0e0-d1fe73f2154a"
      },
      "execution_count": null,
      "outputs": [
        {
          "output_type": "stream",
          "name": "stdout",
          "text": [
            "neerajkumar\n"
          ]
        }
      ]
    },
    {
      "cell_type": "markdown",
      "source": [
        "3. What are the main differences between lists and tuples in Python?\n",
        "\n",
        "  - main difference between list and tuple:\n",
        "   -  mutability\n",
        "      - list is mutable(can be changed,add,remove and update element).\n",
        "      - define with [] (square bracket).\n",
        "      -  slowe than tuple because mutable operations require extra memory and check.\n",
        "      - used when we need a collection of items that may change.\n",
        "\n",
        "   - immutable\n",
        "      - immutable cannot be changed after creation.\n",
        "      - define with () parantheses\n",
        "      - faster than lists because of immutablity.\n",
        "      -used when we need fixed data that should not change (like constant)"
      ],
      "metadata": {
        "id": "W2eo2EmqoTo4"
      }
    },
    {
      "cell_type": "markdown",
      "source": [
        "4.  Describe how dictionaries store data?\n",
        "  -  how dictionaries store data:\n",
        "  - (1) hashing\n",
        "    - python use a technique called hashing.\n",
        "    - each key is passed though a hash function that convert it into a number (hash value)\n",
        "    - this number decides where the key value pair will be stored in memory.\n",
        "  - (2) key value mapping\n",
        "    - the key is like an \"index\" but unlike lists(which use memory indexes), dictionries can use almost any immutable object as a key.\n",
        "    - Each key point directly to its value.\n",
        "  - (3) fast lookup\n",
        "    - because of hashing, searching for a value using its key is very fast.\n",
        "  - (4) uniqueness of key\n",
        "    - Eack key must be unique .if we use the same key again, the old value will be replaced\n",
        "\n"
      ],
      "metadata": {
        "id": "gFXb9mVgsW79"
      }
    },
    {
      "cell_type": "markdown",
      "source": [
        "5. Why might you use a set instead of a list in Python?\n",
        "\n",
        "  - main reason:\n",
        "    - (1) No duplicates allowed(A set automatically remove duplicate value.) and a list would keep all duplicates.\n",
        "    - (2)faster lookup >> checking if an item exits in a set is much faster than in a list because sets use hashing.\n",
        "\n",
        "6. What is a string in Python, and how is it different from a list?\n",
        "\n",
        "  - A string is a sequences of character( letters,numbers,symbols,spaces)\n",
        "  \n",
        "    - differences between string and list:\n",
        "   - (1) data type >> string is sequences of characters while list is sequences of element.\n",
        "   - (2) mutability >> string is immutable while list is mutable\n",
        "   - (3) indexing >> string is supports indexing and slicing while list also supports indexing and slicing.\n",
        "   - (4) example >> \"neeraj\"=['n','e','e','r','a','j'] while [10,20,30]\n",
        "\n",
        "7. How do tuples ensure data integrity in Python?\n",
        "\n",
        "  * how tuples ensure data integrity in python:\n",
        "  - (1) immutability>>\n",
        "    - once a tuple is created, we cannot add, remove or modify its elements.\n",
        "    - this means the data stays fixed and safe throughout the program.\n",
        "  - (2) prevent accidental changes>>\n",
        "    - because tuple cannot be changed, they prevent accidental modifications in code, which helps keep important data consitent.\n",
        "  - (3) safe to use as key in dictionaries and elemrnts in sets>>\n",
        "    - since tuples are immutable (unlike list), they can be used as key in dictionries and as element in sets.\n",
        "    - this ensures the data used as identifiers remains stable.\n",
        "  - (4) reliable for Constant/ fixed collection>>\n",
        "    - if we have data that should never change ( like days of the week, coordinates, config value), tuples are the best choice.\n",
        "\n",
        "8. What is a hash table, and how does it relate to dictionaries in Python?\n",
        "\n",
        "  - hash table >> A hash table is a data structure that allows for efficient storage and retrieval of key - value pairs. It work by using a hash function to compute an index ( called a \"hash\") into an array of buckets or slots, from which the desired value can be found.\n",
        "\n",
        "  - how it related to python dictionaries:\n",
        "    - in python, the built-in dict type is implemented as a hash table.\n",
        "\n",
        "    example:\n",
        "\n",
        "\n",
        "\n",
        "\n",
        "\n"
      ],
      "metadata": {
        "id": "P3Wc2-Vhwe3K"
      }
    },
    {
      "cell_type": "code",
      "source": [
        "my_dict = {\"name\":\"neeraj\",\"age\":20}\n"
      ],
      "metadata": {
        "id": "icUzstq-8q4s"
      },
      "execution_count": null,
      "outputs": []
    },
    {
      "cell_type": "markdown",
      "source": [
        "here's what happen behind the scenes:\n",
        "\n",
        "  - 1. python hashes the key \"name\" And \"age\" using a hash function.\n",
        "  - 2. it maps those hashes to indices in an internal array.\n",
        "  - 3. it store the value (\"neeraj\" and 20) at those position.\n",
        "\n",
        "9. Can lists contain different data types in Python?\n",
        "\n",
        "  - Yes, lists in python can cotain different data types.\n",
        "  - python lists are heterogeneous, meaning they can hold element of mixed types >> string,float,list etc. all in the same list.\n",
        "\n",
        "   example:\n",
        "\n",
        "\n",
        "  "
      ],
      "metadata": {
        "id": "XuxWnywz8xTU"
      }
    },
    {
      "cell_type": "code",
      "source": [
        "mixed_list = [41,\"hello\",3.12,True,[1,2],]\n"
      ],
      "metadata": {
        "id": "NmVdQTPW-9Hm"
      },
      "execution_count": null,
      "outputs": []
    },
    {
      "cell_type": "markdown",
      "source": [
        "10. Explain why strings are immutable in Python?\n",
        "\n",
        "  - strings are immutable in python, its means once a string is created, it cannot be changed.if i try to change it python throw an error or create a new string object.\n",
        "\n",
        "  - why are string immutable in python?\n",
        "  - (1)>> Efficiency and Memory Optimization\n",
        "\n",
        "    - strings are use frequently (e.g., as dictionary keys), so python optimizes their handling.\n",
        "    - immutable object can be interned (stored in a shared memory location) to save memory and speed up comparisons.\n",
        "    \n",
        "    - example\n"
      ],
      "metadata": {
        "id": "TOlPydfp_lmb"
      }
    },
    {
      "cell_type": "code",
      "source": [
        "a = \"hello\"\n",
        "b = \"hello\"\n",
        "print(a is b) # both point to the same object in memory"
      ],
      "metadata": {
        "colab": {
          "base_uri": "https://localhost:8080/"
        },
        "id": "IQIwQ552BxOs",
        "outputId": "ffa798da-7fa6-4aaa-93ee-b4475a741f77"
      },
      "execution_count": null,
      "outputs": [
        {
          "output_type": "stream",
          "name": "stdout",
          "text": [
            "True\n"
          ]
        }
      ]
    },
    {
      "cell_type": "markdown",
      "source": [
        "  - (2) >> Hashabilty\n",
        "    - for an object to be used as a dictionary key or added to set, it must be hashable.\n",
        "    - hashability requires that the object doesn't change over time, which is guarabteed by immutability.\n",
        "\n",
        "  - (3) >> thread safety\n",
        "    - since strings can't be changed, they can be shared safely across threads without the risk of being modified by another thread.\n",
        "\n",
        "11. What advantages do dictionaries offer over lists for certain tasks?\n",
        "\n",
        "  - Dictionaries offer several key advantages over lists for specific types of tasks, particularly when dealing with key value pairs and fast lookups.\n",
        "   here's a breakdown:\n",
        "\n",
        "  - (1) Faster lookups (constant time access):\n",
        "    - dictionary>>sccessing a value by its its key is typically 0(1) time (constant),thanks to hashing.\n",
        "    - list>>Searching for specific value  or index( if not known) is 0(n) (linear Time), as we may need to traverse the entire list.\n",
        "\n",
        "  - (2) Key-value pair storage:\n",
        "    - Disctionaries Stores data as key value pairs,macking it ideal for associating name with value ex.{\"name\":\"neeraj\",\"age\":30}\n",
        "    - list store Values by positive ?index ex.[\"neeraj\",30]\n",
        "\n",
        " - (3) Avoiding duplicates in keys\n",
        "   - dictionary keys are unique, trying to insert a duplicate key will overwrite the existing value.\n",
        "   - list can contain duplicate  values, which might be undesirable in some contexts.\n",
        "\n",
        "12. Describe a scenario where using a tuple would be preferable over a list?\n",
        "\n",
        "  - Scenario: Using Tuples as Dictionary Keys\n",
        "\n",
        "  - Problem:>> We want To use a combination of value (like Coordinates or composite identifiers) as a key in dictionary to store related data.\n",
        "\n",
        "  - why Tuple>>\n",
        "  - Tuples are immutable and hashable, which means they can be used as dictionary keys.\n",
        "  - list are mutable and not hashable , so they cannot be used as keys in a dictionary.\n",
        "  - example: storing elevation data by coordinates\n",
        "  \n"
      ],
      "metadata": {
        "id": "BavkfwvnCcyG"
      }
    },
    {
      "cell_type": "code",
      "source": [
        "elevation_data = {(40.7128, -74.0060): 10, (34.0522, -118.2437): 15,(51.5074, -0.1278): 35}\n",
        "location = (40.7128, -74.0060)\n",
        "print(f\" elevation:{elevation_data[location]}meters\")\n",
        "\n"
      ],
      "metadata": {
        "colab": {
          "base_uri": "https://localhost:8080/"
        },
        "id": "1okO3jPBb7UX",
        "outputId": "8243d990-3597-44dd-e0b2-9adcc4b84e54"
      },
      "execution_count": null,
      "outputs": [
        {
          "output_type": "stream",
          "name": "stdout",
          "text": [
            " elevation:10meters\n"
          ]
        }
      ]
    },
    {
      "cell_type": "markdown",
      "source": [
        "13. How do sets handle duplicate values in Python?\n",
        "\n",
        "  - In python, sets Automatically eliminate duplicate value.\n",
        "  for example>\n"
      ],
      "metadata": {
        "id": "cTHEycQReOY_"
      }
    },
    {
      "cell_type": "code",
      "source": [
        "my_set = {1,2,2,3,3,4}\n",
        "print(my_set)          # as we can see duplicates like 2 and 3 are automaticaly removed."
      ],
      "metadata": {
        "colab": {
          "base_uri": "https://localhost:8080/"
        },
        "id": "hVWIUgNWe5LY",
        "outputId": "f53e8b8f-5a61-47eb-a379-6b14709401e4"
      },
      "execution_count": null,
      "outputs": [
        {
          "output_type": "stream",
          "name": "stdout",
          "text": [
            "{1, 2, 3, 4}\n"
          ]
        }
      ]
    },
    {
      "cell_type": "markdown",
      "source": [
        "14. How does the “in” keyword work differently for lists and dictionaries?\n",
        "\n",
        "  - The \"in\" keyword behaves differently for lists and dictionary in python, because of how those data structure are designed.\n",
        "\n",
        "  for lists:\n",
        "\n",
        "   - in checks if a value exists in the list.\n",
        "   - it perform a linear search (check an element one by one)\n",
        "\n",
        "   - example>\n",
        "  \n",
        "\n"
      ],
      "metadata": {
        "id": "8Gc2VodIfR12"
      }
    },
    {
      "cell_type": "code",
      "source": [
        "my_list = [1,2,3,4,5]\n",
        "print(3 in my_list)"
      ],
      "metadata": {
        "colab": {
          "base_uri": "https://localhost:8080/"
        },
        "id": "jkNE_wuwgvc0",
        "outputId": "68ddd113-c5e8-4652-e841-98833379c243"
      },
      "execution_count": null,
      "outputs": [
        {
          "output_type": "stream",
          "name": "stdout",
          "text": [
            "True\n"
          ]
        }
      ]
    },
    {
      "cell_type": "code",
      "source": [
        "print(6 in my_list)"
      ],
      "metadata": {
        "colab": {
          "base_uri": "https://localhost:8080/"
        },
        "id": "aHoPw2Flg0_h",
        "outputId": "c5328e98-0d3b-46d6-ff50-61fb70ba875b"
      },
      "execution_count": null,
      "outputs": [
        {
          "output_type": "stream",
          "name": "stdout",
          "text": [
            "False\n"
          ]
        }
      ]
    },
    {
      "cell_type": "markdown",
      "source": [
        "for dictionary:\n",
        "\n",
        "   - in check if a key exists, not value.\n",
        "   - it's optimized using a hash value.\n",
        "   - example>"
      ],
      "metadata": {
        "id": "oa2ZS9IGg9B4"
      }
    },
    {
      "cell_type": "code",
      "source": [
        "my_dict = {\"name\":\"neeraj\",\"age\":20}\n",
        "print(\"name\" in my_dict)"
      ],
      "metadata": {
        "colab": {
          "base_uri": "https://localhost:8080/"
        },
        "id": "RghiTifJhVKg",
        "outputId": "a01d6fa2-d3ab-464e-a63d-c05710b8ee27"
      },
      "execution_count": null,
      "outputs": [
        {
          "output_type": "stream",
          "name": "stdout",
          "text": [
            "True\n"
          ]
        }
      ]
    },
    {
      "cell_type": "code",
      "source": [
        "print(\"neeraj\" in my_dict)"
      ],
      "metadata": {
        "colab": {
          "base_uri": "https://localhost:8080/"
        },
        "id": "FUTltH9XhdtZ",
        "outputId": "8051b74f-59ce-4c62-f06f-bc00da784ccf"
      },
      "execution_count": null,
      "outputs": [
        {
          "output_type": "stream",
          "name": "stdout",
          "text": [
            "False\n"
          ]
        }
      ]
    },
    {
      "cell_type": "markdown",
      "source": [
        "15. Can you modify the elements of a tuple? Explain why or why not?\n",
        "\n",
        "  - No, I cannot modify the element of a tuple in python.\n",
        "  - because, A tuple is immutable, meaning once it is created,its contents(element) cannot be change,added, or removed.\n",
        "  - this is immutsble is by design. it ensure that tuples cab be safely used as key in dictionries or elements in sets, where data intergrity and fixed values are important.\n",
        "  - example>\n"
      ],
      "metadata": {
        "id": "UpptTvgDhrtC"
      }
    },
    {
      "cell_type": "code",
      "source": [
        "my_tuple = (1,2,3)\n",
        "my_tuple[0] = 4\n"
      ],
      "metadata": {
        "colab": {
          "base_uri": "https://localhost:8080/",
          "height": 158
        },
        "id": "7UEQnQqYjBEa",
        "outputId": "3f739bdb-8a34-4c7f-a0a3-ce3479b7aecf"
      },
      "execution_count": null,
      "outputs": [
        {
          "output_type": "error",
          "ename": "TypeError",
          "evalue": "'tuple' object does not support item assignment",
          "traceback": [
            "\u001b[0;31m---------------------------------------------------------------------------\u001b[0m",
            "\u001b[0;31mTypeError\u001b[0m                                 Traceback (most recent call last)",
            "\u001b[0;32m/tmp/ipython-input-2654576979.py\u001b[0m in \u001b[0;36m<cell line: 0>\u001b[0;34m()\u001b[0m\n\u001b[1;32m      1\u001b[0m \u001b[0mmy_tuple\u001b[0m \u001b[0;34m=\u001b[0m \u001b[0;34m(\u001b[0m\u001b[0;36m1\u001b[0m\u001b[0;34m,\u001b[0m\u001b[0;36m2\u001b[0m\u001b[0;34m,\u001b[0m\u001b[0;36m3\u001b[0m\u001b[0;34m)\u001b[0m\u001b[0;34m\u001b[0m\u001b[0;34m\u001b[0m\u001b[0m\n\u001b[0;32m----> 2\u001b[0;31m \u001b[0mmy_tuple\u001b[0m\u001b[0;34m[\u001b[0m\u001b[0;36m0\u001b[0m\u001b[0;34m]\u001b[0m \u001b[0;34m=\u001b[0m \u001b[0;36m4\u001b[0m\u001b[0;34m\u001b[0m\u001b[0;34m\u001b[0m\u001b[0m\n\u001b[0m",
            "\u001b[0;31mTypeError\u001b[0m: 'tuple' object does not support item assignment"
          ]
        }
      ]
    },
    {
      "cell_type": "markdown",
      "source": [
        "16. What is a nested dictionary, and give an example of its use case?\n",
        "\n",
        "  - Nested:>> A nested dictionary is when value of keys are themselves dictionaries.\n",
        "  - use case:>>\n",
        "  - storing student database\n",
        "  \n",
        "  - example.."
      ],
      "metadata": {
        "id": "DKrZESHxjPeP"
      }
    },
    {
      "cell_type": "code",
      "source": [
        "students ={\"101\":{\"name\":\"neeraj\",\"age\":20,\"marks\":85},\"102\":{\"name\":\"dheeraj\",\"age\":25,\"marks\":95},\"103\":{\"name\":\"ajay\",\"age\":22,\"marks\":75}}\n",
        "print(students[\"101\"][\"name\"])\n",
        "print(students[\"102\"][\"marks\"]) # and there are many usecase"
      ],
      "metadata": {
        "colab": {
          "base_uri": "https://localhost:8080/"
        },
        "id": "9hdaD68zkfcU",
        "outputId": "732f616f-ed39-422e-a887-740b81f088a2"
      },
      "execution_count": null,
      "outputs": [
        {
          "output_type": "stream",
          "name": "stdout",
          "text": [
            "neeraj\n",
            "95\n"
          ]
        }
      ]
    },
    {
      "cell_type": "markdown",
      "source": [
        "17. Describe the time complexity of accessing elements in a dictionary?\n",
        "\n",
        "  - in python, a dictionary is implemented using a hash table.\n",
        "\n",
        "    - each key is hashed to find  its index(bucket)\n",
        "    - this makes lookups (accessing a value by key) very efficient\n",
        "\n",
        "  - average case:\n",
        "    - 0(1) (constant time)\n",
        "    - because python compute the hash of they key and directly jumps to the memory location.\n",
        "\n",
        "  - worst case:\n",
        "    - 0(n) (linear time)\n",
        "    - this happen if there are too many case hash collisions,where multiple keys are stored in the same bucket.\n",
        "    - however, pythom's dictionary is well -optimized to keep collision rare, so worst cases are uncomman in practice.\n",
        "\n",
        "    - Example>\n"
      ],
      "metadata": {
        "id": "s36J_G3GmIN6"
      }
    },
    {
      "cell_type": "code",
      "source": [
        "my_dict = {\"a\": 1,\"b\": 2, \"c\": 3}\n",
        "print(my_dict[\"b\"])"
      ],
      "metadata": {
        "colab": {
          "base_uri": "https://localhost:8080/"
        },
        "id": "pHXepOyWoZnX",
        "outputId": "83aa1064-c271-4cf6-cfb2-72b09e92d0d2"
      },
      "execution_count": null,
      "outputs": [
        {
          "output_type": "stream",
          "name": "stdout",
          "text": [
            "2\n"
          ]
        }
      ]
    },
    {
      "cell_type": "markdown",
      "source": [
        "18. In what situations are lists preferred over dictionaries?\n",
        "\n",
        "  - Situations where lists are preferred:\n",
        "\n",
        "    - lists keep items in the order they are inserted.\n",
        "    - example: to- do lists,playlist,or step by step instructions.\n",
        "    \n"
      ],
      "metadata": {
        "id": "8g704oI3o-XD"
      }
    },
    {
      "cell_type": "code",
      "source": [
        "tasks = [\"wake up\",\"exercise\",\"study\",\"sleep\"]"
      ],
      "metadata": {
        "id": "2u9_F5xVpExX"
      },
      "execution_count": null,
      "outputs": []
    },
    {
      "cell_type": "markdown",
      "source": [
        "  - when we need values(not key value pair)\n",
        "    - if your data doesn't need lables/keys,a list is simpler.\n",
        "    - Example: storing roll number,name, or score.\n",
        "    "
      ],
      "metadata": {
        "id": "9EVfhDT4qWCE"
      }
    },
    {
      "cell_type": "code",
      "source": [
        "scores=[85,9,75,91]"
      ],
      "metadata": {
        "id": "h24rWZYsq5gw"
      },
      "execution_count": null,
      "outputs": []
    },
    {
      "cell_type": "markdown",
      "source": [
        "  - when indexing byposition is required\n",
        "    - lists let we access element by their index.\n",
        "    - example: accesing the 3rd student's marks.\n",
        "    "
      ],
      "metadata": {
        "id": "o1StwXj4rD6N"
      }
    },
    {
      "cell_type": "code",
      "source": [
        "students = ['neera',\"ajay\",\"vijay\"]\n",
        "print(students[2])"
      ],
      "metadata": {
        "colab": {
          "base_uri": "https://localhost:8080/"
        },
        "id": "3vSwj3NXriWL",
        "outputId": "0a8d055b-89bb-4df2-b496-ff62ac61fa64"
      },
      "execution_count": null,
      "outputs": [
        {
          "output_type": "stream",
          "name": "stdout",
          "text": [
            "vijay\n"
          ]
        }
      ]
    },
    {
      "cell_type": "markdown",
      "source": [
        "  - when we need to store duplicates item.\n",
        "    - lists allow duplicates, but dictionary don't allow duplicates key\n",
        "    - example tracking daily temperatures"
      ],
      "metadata": {
        "id": "SYbiBeDHrz2k"
      }
    },
    {
      "cell_type": "code",
      "source": [
        "Temps = [30,32,30,35,32]"
      ],
      "metadata": {
        "id": "DaK1U08VsQC0"
      },
      "execution_count": null,
      "outputs": []
    },
    {
      "cell_type": "markdown",
      "source": [
        "  - when order based operations are needed\n",
        "    - sorting,slicing.reversing etc.\n",
        "    "
      ],
      "metadata": {
        "id": "KQmHfFJUsbv0"
      }
    },
    {
      "cell_type": "code",
      "source": [
        "nums = [4,2,3,1]\n",
        "nums.sort()\n",
        "print(nums)"
      ],
      "metadata": {
        "colab": {
          "base_uri": "https://localhost:8080/"
        },
        "id": "kFuiKINPsn6Q",
        "outputId": "e9a51cae-9026-4530-be7f-93a6fb2a76a1"
      },
      "execution_count": null,
      "outputs": [
        {
          "output_type": "stream",
          "name": "stdout",
          "text": [
            "[1, 2, 3, 4]\n"
          ]
        }
      ]
    },
    {
      "cell_type": "markdown",
      "source": [
        "19. Why are dictionaries considered unordered, and how does that affect data retrieval?\n",
        "  - A dictionary stores data as key value pairs using a hash table.\n",
        "  - keys are hashed into position in memory(bucket)\n",
        "  - the main focus is fast lookup(0(1)), not ordering.\n",
        "\n",
        "   - effect on data retrieval\n",
        "      - (1) retrieval by key, not by position\n",
        "        - In a list, we use indexes (list[0]), but in a lictionary we retrieve by key (dict[\"name\"])\n",
        "        - this means we don't care where the item is sorted,as long as you know its key\n",
        "\n"
      ],
      "metadata": {
        "id": "HM57uQCts2QB"
      }
    },
    {
      "cell_type": "code",
      "source": [
        "student = {\"name\":\"neeraj\",\"age\":20,\"marks\":85}\n",
        "print(student[\"age\"])\n",
        "print(student[0])            # no index acces"
      ],
      "metadata": {
        "colab": {
          "base_uri": "https://localhost:8080/",
          "height": 193
        },
        "id": "j4SeQnYKvBlv",
        "outputId": "cc44fcda-3844-48fe-c4f9-4059391c5b17"
      },
      "execution_count": null,
      "outputs": [
        {
          "output_type": "stream",
          "name": "stdout",
          "text": [
            "20\n"
          ]
        },
        {
          "output_type": "error",
          "ename": "KeyError",
          "evalue": "0",
          "traceback": [
            "\u001b[0;31m---------------------------------------------------------------------------\u001b[0m",
            "\u001b[0;31mKeyError\u001b[0m                                  Traceback (most recent call last)",
            "\u001b[0;32m/tmp/ipython-input-1397615222.py\u001b[0m in \u001b[0;36m<cell line: 0>\u001b[0;34m()\u001b[0m\n\u001b[1;32m      1\u001b[0m \u001b[0mstudent\u001b[0m \u001b[0;34m=\u001b[0m \u001b[0;34m{\u001b[0m\u001b[0;34m\"name\"\u001b[0m\u001b[0;34m:\u001b[0m\u001b[0;34m\"neeraj\"\u001b[0m\u001b[0;34m,\u001b[0m\u001b[0;34m\"age\"\u001b[0m\u001b[0;34m:\u001b[0m\u001b[0;36m20\u001b[0m\u001b[0;34m,\u001b[0m\u001b[0;34m\"marks\"\u001b[0m\u001b[0;34m:\u001b[0m\u001b[0;36m85\u001b[0m\u001b[0;34m}\u001b[0m\u001b[0;34m\u001b[0m\u001b[0;34m\u001b[0m\u001b[0m\n\u001b[1;32m      2\u001b[0m \u001b[0mprint\u001b[0m\u001b[0;34m(\u001b[0m\u001b[0mstudent\u001b[0m\u001b[0;34m[\u001b[0m\u001b[0;34m\"age\"\u001b[0m\u001b[0;34m]\u001b[0m\u001b[0;34m)\u001b[0m\u001b[0;34m\u001b[0m\u001b[0;34m\u001b[0m\u001b[0m\n\u001b[0;32m----> 3\u001b[0;31m \u001b[0mprint\u001b[0m\u001b[0;34m(\u001b[0m\u001b[0mstudent\u001b[0m\u001b[0;34m[\u001b[0m\u001b[0;36m0\u001b[0m\u001b[0;34m]\u001b[0m\u001b[0;34m)\u001b[0m\u001b[0;34m\u001b[0m\u001b[0;34m\u001b[0m\u001b[0m\n\u001b[0m",
            "\u001b[0;31mKeyError\u001b[0m: 0"
          ]
        }
      ]
    },
    {
      "cell_type": "markdown",
      "source": [
        "  (2) iteration order may not matter\n",
        "    - in python older version ,looping over a dictionary could give element in any order.\n",
        "    - in python 3.7+, order is preserved, but you should not rely on it for algorithms where ordering is critical.\n",
        "\n",
        "  (3) unordered storage = faster lookups\n",
        "    - since dictionaries don't need to maintain a sorted indexed structure,lookups are 0(1) on average.\n",
        "    - that's the big trade-off: unordered but fast."
      ],
      "metadata": {
        "id": "3XkYH8nFvirj"
      }
    },
    {
      "cell_type": "markdown",
      "source": [
        " 20. Explain the difference between a list and a dictionary in terms of data retrieval?\n",
        "\n",
        "-  retrieval in lists\n",
        "   - Data is retrieved by position(index)\n",
        "   - indexes are intiger-based, strarting from 0.\n",
        "   - retrieval is 0(1) (constant time), because can directly jump to that index in memory.\n",
        "  - example:\n"
      ],
      "metadata": {
        "id": "ES7S7i7nxEIn"
      }
    },
    {
      "cell_type": "code",
      "source": [
        "fruits = [\"apple\",\"banana\",\"orange\"]\n",
        "print(fruits[1])"
      ],
      "metadata": {
        "colab": {
          "base_uri": "https://localhost:8080/"
        },
        "id": "2BRW8ETG77XJ",
        "outputId": "408e9e8f-3e45-443a-bca5-3e14a048f8f7"
      },
      "execution_count": 1,
      "outputs": [
        {
          "output_type": "stream",
          "name": "stdout",
          "text": [
            "banana\n"
          ]
        }
      ]
    },
    {
      "cell_type": "markdown",
      "source": [
        " - retrieval in dictionaries\n",
        "   - Data is retrieved by key, not by index.\n",
        "   - keys can be strings, numbers,or other immutable type.\n",
        "   - retrieval is also 0(1) on average.\n",
        "  - example"
      ],
      "metadata": {
        "id": "jxMlbbdw8NSF"
      }
    },
    {
      "cell_type": "code",
      "source": [
        "student = {\"name\":\"neeraj\",\"age\":20,\"marks\":85}\n",
        "print(student[\"marks\"])"
      ],
      "metadata": {
        "colab": {
          "base_uri": "https://localhost:8080/"
        },
        "id": "pHFsQM6J899r",
        "outputId": "14b7f4e2-7925-4fd5-d481-f683df871d55"
      },
      "execution_count": 2,
      "outputs": [
        {
          "output_type": "stream",
          "name": "stdout",
          "text": [
            "85\n"
          ]
        }
      ]
    },
    {
      "cell_type": "markdown",
      "source": [
        "# Practical Questions\n",
        "\n",
        "1. Write a code to create a string with your name and print it.\n",
        "\n"
      ],
      "metadata": {
        "id": "oMa2-7MW9Ki6"
      }
    },
    {
      "cell_type": "code",
      "source": [
        "name = \"neeraj\"\n",
        "print(name)"
      ],
      "metadata": {
        "colab": {
          "base_uri": "https://localhost:8080/"
        },
        "id": "cXoLRIeg9e4B",
        "outputId": "2231dadb-b1dd-415a-a434-40b6a23a9d25"
      },
      "execution_count": 3,
      "outputs": [
        {
          "output_type": "stream",
          "name": "stdout",
          "text": [
            "neeraj\n"
          ]
        }
      ]
    },
    {
      "cell_type": "markdown",
      "source": [
        "2. Write a code to find the length of the string \"Hello World\"."
      ],
      "metadata": {
        "id": "JHqTb6DT-E3b"
      }
    },
    {
      "cell_type": "code",
      "source": [
        "\"hello world\"\n",
        "print(len(\"hello world\"))"
      ],
      "metadata": {
        "colab": {
          "base_uri": "https://localhost:8080/"
        },
        "id": "il1GZJYI-Qfd",
        "outputId": "0fda7223-d475-496c-d1ae-1438775ac0cb"
      },
      "execution_count": 5,
      "outputs": [
        {
          "output_type": "stream",
          "name": "stdout",
          "text": [
            "11\n"
          ]
        }
      ]
    },
    {
      "cell_type": "markdown",
      "source": [
        "3. Write a code to slice the first 3 characters from the string \"Python Programming\"."
      ],
      "metadata": {
        "id": "0MANMWYE-f1h"
      }
    },
    {
      "cell_type": "code",
      "source": [
        "string1 = \"neeraj\"\n",
        "string1[:3]"
      ],
      "metadata": {
        "colab": {
          "base_uri": "https://localhost:8080/",
          "height": 36
        },
        "id": "EsiEs1Wy_m-X",
        "outputId": "2d3c5962-b695-4187-b26e-cedbd1c1709e"
      },
      "execution_count": 6,
      "outputs": [
        {
          "output_type": "execute_result",
          "data": {
            "text/plain": [
              "'nee'"
            ],
            "application/vnd.google.colaboratory.intrinsic+json": {
              "type": "string"
            }
          },
          "metadata": {},
          "execution_count": 6
        }
      ]
    },
    {
      "cell_type": "code",
      "source": [
        "string1[3:]"
      ],
      "metadata": {
        "colab": {
          "base_uri": "https://localhost:8080/",
          "height": 36
        },
        "id": "Q8ApnK3aAPeo",
        "outputId": "67883d2e-4c10-407f-d73f-9bf4cbfe02c5"
      },
      "execution_count": 11,
      "outputs": [
        {
          "output_type": "execute_result",
          "data": {
            "text/plain": [
              "'raj'"
            ],
            "application/vnd.google.colaboratory.intrinsic+json": {
              "type": "string"
            }
          },
          "metadata": {},
          "execution_count": 11
        }
      ]
    },
    {
      "cell_type": "markdown",
      "source": [
        "4. Write a code to convert the string \"hello\" to uppercase."
      ],
      "metadata": {
        "id": "EOPGhTlXBWgZ"
      }
    },
    {
      "cell_type": "code",
      "source": [
        "string2 = \"hello\"\n",
        "string2.upper()"
      ],
      "metadata": {
        "colab": {
          "base_uri": "https://localhost:8080/",
          "height": 36
        },
        "id": "nEs96o7OBeVt",
        "outputId": "0c5a7d37-4611-47d1-dc58-23ae58b83b06"
      },
      "execution_count": 13,
      "outputs": [
        {
          "output_type": "execute_result",
          "data": {
            "text/plain": [
              "'HELLO'"
            ],
            "application/vnd.google.colaboratory.intrinsic+json": {
              "type": "string"
            }
          },
          "metadata": {},
          "execution_count": 13
        }
      ]
    },
    {
      "cell_type": "markdown",
      "source": [
        "5. Write a code to replace the word \"apple\" with \"orange\" in the string \"I like apple\"."
      ],
      "metadata": {
        "id": "3mV-vhQEBrGo"
      }
    },
    {
      "cell_type": "code",
      "source": [
        "word = \"i like apple\"\n",
        "word.replace(\"apple\",\"orange\")"
      ],
      "metadata": {
        "colab": {
          "base_uri": "https://localhost:8080/",
          "height": 36
        },
        "id": "6Q6shRkWBybR",
        "outputId": "071efb52-7a16-4faf-f67e-011154da0848"
      },
      "execution_count": 14,
      "outputs": [
        {
          "output_type": "execute_result",
          "data": {
            "text/plain": [
              "'i like orange'"
            ],
            "application/vnd.google.colaboratory.intrinsic+json": {
              "type": "string"
            }
          },
          "metadata": {},
          "execution_count": 14
        }
      ]
    },
    {
      "cell_type": "markdown",
      "source": [
        "6. Write a code to create a list with numbers 1 to 5 and print it."
      ],
      "metadata": {
        "id": "YoeRzkLtCDkm"
      }
    },
    {
      "cell_type": "code",
      "source": [
        "my_list = [1,2,3,4,5]\n",
        "print(my_list)"
      ],
      "metadata": {
        "colab": {
          "base_uri": "https://localhost:8080/"
        },
        "id": "ORRoa9mOCLgK",
        "outputId": "a4d121a1-8356-4760-b38a-1d6b9c65b490"
      },
      "execution_count": 15,
      "outputs": [
        {
          "output_type": "stream",
          "name": "stdout",
          "text": [
            "[1, 2, 3, 4, 5]\n"
          ]
        }
      ]
    },
    {
      "cell_type": "markdown",
      "source": [
        "7. Write a code to append the number 10 to the list [1, 2, 3, 4]"
      ],
      "metadata": {
        "id": "OsJ3X0r1CTNl"
      }
    },
    {
      "cell_type": "code",
      "source": [
        "my_list = [1,2,3,4]\n",
        "my_list.append(10)\n",
        "print(my_list)"
      ],
      "metadata": {
        "colab": {
          "base_uri": "https://localhost:8080/"
        },
        "id": "Y-enAD-PCdcd",
        "outputId": "66ffe18e-0c81-4618-9b73-e3c06adb1ec3"
      },
      "execution_count": 16,
      "outputs": [
        {
          "output_type": "stream",
          "name": "stdout",
          "text": [
            "[1, 2, 3, 4, 10]\n"
          ]
        }
      ]
    },
    {
      "cell_type": "markdown",
      "source": [
        "8.  Write a code to remove the number 3 from the list [1, 2, 3, 4, 5]"
      ],
      "metadata": {
        "id": "YXnNBhP0CjWm"
      }
    },
    {
      "cell_type": "code",
      "source": [
        "my_list = [1,2,3,4,5]\n",
        "my_list.remove(3)\n",
        "print(my_list)"
      ],
      "metadata": {
        "colab": {
          "base_uri": "https://localhost:8080/"
        },
        "id": "fwK3UPtzCoV7",
        "outputId": "37c0ae0c-3370-4279-91a5-dc313b37be26"
      },
      "execution_count": 17,
      "outputs": [
        {
          "output_type": "stream",
          "name": "stdout",
          "text": [
            "[1, 2, 4, 5]\n"
          ]
        }
      ]
    },
    {
      "cell_type": "markdown",
      "source": [
        "9. Write a code to access the second element in the list ['a', 'b', 'c', 'd']."
      ],
      "metadata": {
        "id": "-MlCuRVvCt_O"
      }
    },
    {
      "cell_type": "code",
      "source": [
        "my_list = ['a','b','c','d']\n",
        "my_list[1]"
      ],
      "metadata": {
        "colab": {
          "base_uri": "https://localhost:8080/",
          "height": 36
        },
        "id": "AbthOwj6C2Ks",
        "outputId": "244ff2da-cdd7-49d1-de86-4987b83a7995"
      },
      "execution_count": 18,
      "outputs": [
        {
          "output_type": "execute_result",
          "data": {
            "text/plain": [
              "'b'"
            ],
            "application/vnd.google.colaboratory.intrinsic+json": {
              "type": "string"
            }
          },
          "metadata": {},
          "execution_count": 18
        }
      ]
    },
    {
      "cell_type": "markdown",
      "source": [
        "10. Write a code to reverse the list [10, 20, 30, 40, 50]."
      ],
      "metadata": {
        "id": "5v-ALwCkC71F"
      }
    },
    {
      "cell_type": "code",
      "source": [
        "my_list = [10,20,30,40,50]\n",
        "my_list.reverse()\n",
        "print(my_list)"
      ],
      "metadata": {
        "colab": {
          "base_uri": "https://localhost:8080/"
        },
        "id": "ny-Sf8TIDDCj",
        "outputId": "a3c1cabf-3db4-4c8a-a288-271a4a1a1ca0"
      },
      "execution_count": 19,
      "outputs": [
        {
          "output_type": "stream",
          "name": "stdout",
          "text": [
            "[50, 40, 30, 20, 10]\n"
          ]
        }
      ]
    },
    {
      "cell_type": "markdown",
      "source": [
        "11. Write a code to create a tuple with the elements 100, 200, 300 and print it."
      ],
      "metadata": {
        "id": "Q9lpmKhtDWP9"
      }
    },
    {
      "cell_type": "code",
      "source": [
        "my_tuple = (100,200,300)\n",
        "print(my_tuple)"
      ],
      "metadata": {
        "colab": {
          "base_uri": "https://localhost:8080/"
        },
        "id": "auL7AKwODdFA",
        "outputId": "66df41ca-3b97-4727-d13c-4d00ba3fa710"
      },
      "execution_count": 20,
      "outputs": [
        {
          "output_type": "stream",
          "name": "stdout",
          "text": [
            "(100, 200, 300)\n"
          ]
        }
      ]
    },
    {
      "cell_type": "markdown",
      "source": [
        "12. Write a code to access the second-to-last element of the tuple ('red', 'green', 'blue', 'yellow')"
      ],
      "metadata": {
        "id": "q29lPnUyDj8-"
      }
    },
    {
      "cell_type": "code",
      "source": [
        "my_tuple = ('red', 'green', 'blue', 'yellow')\n",
        "my_tuple[-2]"
      ],
      "metadata": {
        "colab": {
          "base_uri": "https://localhost:8080/",
          "height": 36
        },
        "id": "kv2qt9wyDt8m",
        "outputId": "b603fdd3-b2ce-49f9-92f5-1613f78cf09c"
      },
      "execution_count": 21,
      "outputs": [
        {
          "output_type": "execute_result",
          "data": {
            "text/plain": [
              "'blue'"
            ],
            "application/vnd.google.colaboratory.intrinsic+json": {
              "type": "string"
            }
          },
          "metadata": {},
          "execution_count": 21
        }
      ]
    },
    {
      "cell_type": "markdown",
      "source": [
        "13. Write a code to find the minimum number in the tuple (10, 20, 5, 15)."
      ],
      "metadata": {
        "id": "3nLqxFGsD16Y"
      }
    },
    {
      "cell_type": "code",
      "source": [
        "my_tuple = (10,20,5,15)\n",
        "print(min(my_tuple))\n"
      ],
      "metadata": {
        "colab": {
          "base_uri": "https://localhost:8080/"
        },
        "id": "fkm_9d60D6eT",
        "outputId": "f1744e5f-d435-435b-8e57-f248cb7891c6"
      },
      "execution_count": 22,
      "outputs": [
        {
          "output_type": "stream",
          "name": "stdout",
          "text": [
            "5\n"
          ]
        }
      ]
    },
    {
      "cell_type": "markdown",
      "source": [
        "14.  Write a code to find the index of the element \"cat\" in the tuple ('dog', 'cat', 'rabbit')."
      ],
      "metadata": {
        "id": "apX3yGHVEeRC"
      }
    },
    {
      "cell_type": "code",
      "source": [
        "my_tuple = ('dog', 'cat', 'rabbit')\n",
        "my_tuple.index(\"cat\")"
      ],
      "metadata": {
        "colab": {
          "base_uri": "https://localhost:8080/"
        },
        "id": "fhuCoSz0EmW3",
        "outputId": "165c7386-0cef-4e7b-ee9d-37243c9e164b"
      },
      "execution_count": 23,
      "outputs": [
        {
          "output_type": "execute_result",
          "data": {
            "text/plain": [
              "1"
            ]
          },
          "metadata": {},
          "execution_count": 23
        }
      ]
    },
    {
      "cell_type": "markdown",
      "source": [
        "15.  Write a code to create a tuple containing three different fruits and check if \"kiwi\" is in it."
      ],
      "metadata": {
        "id": "PsxhSaTLEt-A"
      }
    },
    {
      "cell_type": "code",
      "source": [
        "my_tuple = (\"apple\",\"banana\",\"orange\")\n",
        "print(\"kiwi\" in my_tuple)"
      ],
      "metadata": {
        "colab": {
          "base_uri": "https://localhost:8080/"
        },
        "id": "22zA2aleE1dc",
        "outputId": "9cebecc7-40f3-4d3f-d1ca-65a982b63c68"
      },
      "execution_count": 24,
      "outputs": [
        {
          "output_type": "stream",
          "name": "stdout",
          "text": [
            "False\n"
          ]
        }
      ]
    },
    {
      "cell_type": "code",
      "source": [
        "my_tuple = (\"apple\",\"banana\",\"kiwi\")\n",
        "print(\"kiwi\" in my_tuple)"
      ],
      "metadata": {
        "colab": {
          "base_uri": "https://localhost:8080/"
        },
        "id": "xWAHIDS8FAFf",
        "outputId": "def65b82-9154-452f-ed6f-4f904dc9b41a"
      },
      "execution_count": 25,
      "outputs": [
        {
          "output_type": "stream",
          "name": "stdout",
          "text": [
            "True\n"
          ]
        }
      ]
    },
    {
      "cell_type": "markdown",
      "source": [
        "16.  Write a code to create a set with the elements 'a', 'b', 'c' and print it."
      ],
      "metadata": {
        "id": "OOMDJlMZFEct"
      }
    },
    {
      "cell_type": "code",
      "source": [
        "my_set = {\"a\",\"b\",\"c\"}\n",
        "print(my_set)"
      ],
      "metadata": {
        "colab": {
          "base_uri": "https://localhost:8080/"
        },
        "id": "y7jXzhUeFKV4",
        "outputId": "9d5d9e55-f3c3-4717-b2e6-d8fbd35fdc9e"
      },
      "execution_count": 26,
      "outputs": [
        {
          "output_type": "stream",
          "name": "stdout",
          "text": [
            "{'c', 'a', 'b'}\n"
          ]
        }
      ]
    },
    {
      "cell_type": "markdown",
      "source": [
        "17. Write a code to clear all elements from the set {1, 2, 3, 4, 5}."
      ],
      "metadata": {
        "id": "OyBfowwHFTyo"
      }
    },
    {
      "cell_type": "code",
      "source": [
        "my_set = {1,2,3,4,5}\n",
        "my_set.clear()\n",
        "print(my_set)\n"
      ],
      "metadata": {
        "colab": {
          "base_uri": "https://localhost:8080/"
        },
        "id": "6ju-MHNzFaV1",
        "outputId": "5d35d5df-5c25-4fe5-cb20-377322d2b3e2"
      },
      "execution_count": 27,
      "outputs": [
        {
          "output_type": "stream",
          "name": "stdout",
          "text": [
            "set()\n"
          ]
        }
      ]
    },
    {
      "cell_type": "markdown",
      "source": [
        "18.  Write a code to remove the element 4 from the set {1, 2, 3, 4}."
      ],
      "metadata": {
        "id": "kfUIly6CFh6b"
      }
    },
    {
      "cell_type": "code",
      "source": [
        "my_set = {1,2,3,4}\n",
        "my_set.remove(4)\n",
        "print(my_set)"
      ],
      "metadata": {
        "colab": {
          "base_uri": "https://localhost:8080/"
        },
        "id": "KPRLKdBBFnwy",
        "outputId": "d4151222-2d87-47c2-eb03-ccaeb9946e94"
      },
      "execution_count": 28,
      "outputs": [
        {
          "output_type": "stream",
          "name": "stdout",
          "text": [
            "{1, 2, 3}\n"
          ]
        }
      ]
    },
    {
      "cell_type": "markdown",
      "source": [
        "19.  Write a code to find the union of two sets {1, 2, 3} and {3, 4, 5}."
      ],
      "metadata": {
        "id": "g1fEh_ajFr09"
      }
    },
    {
      "cell_type": "code",
      "source": [
        "my_set1 = {1,2,3}\n",
        "my_set2 = {3,4,5}\n",
        "print(my_set1.union(my_set2))"
      ],
      "metadata": {
        "colab": {
          "base_uri": "https://localhost:8080/"
        },
        "id": "jgi85DffFwQU",
        "outputId": "b06684e5-de3f-4345-e3c6-76999b97b4ef"
      },
      "execution_count": 29,
      "outputs": [
        {
          "output_type": "stream",
          "name": "stdout",
          "text": [
            "{1, 2, 3, 4, 5}\n"
          ]
        }
      ]
    },
    {
      "cell_type": "markdown",
      "source": [
        "20. Write a code to find the intersection of two sets {1, 2, 3} and {2, 3, 4}."
      ],
      "metadata": {
        "id": "ifU9wNvRGC0g"
      }
    },
    {
      "cell_type": "code",
      "source": [
        "my_set = {1,2,3}\n",
        "my_set2 = {2,3,4}\n",
        "print(my_set.intersection(my_set2))"
      ],
      "metadata": {
        "colab": {
          "base_uri": "https://localhost:8080/"
        },
        "id": "OTqQfxcnGHh6",
        "outputId": "4b050ec1-3582-4d33-a51b-abb2e9ac289c"
      },
      "execution_count": 30,
      "outputs": [
        {
          "output_type": "stream",
          "name": "stdout",
          "text": [
            "{2, 3}\n"
          ]
        }
      ]
    },
    {
      "cell_type": "markdown",
      "source": [
        "21. Write a code to create a dictionary with the keys \"name\", \"age\", and \"city\", and print it."
      ],
      "metadata": {
        "id": "WIim6ZQAGOio"
      }
    },
    {
      "cell_type": "code",
      "source": [
        "my_dict = {\"name\":\"neeraj\",\"age\":20,\"city\":\"delhi\"}\n",
        "print(my_dict)"
      ],
      "metadata": {
        "colab": {
          "base_uri": "https://localhost:8080/"
        },
        "id": "pe8RzDSIGUlt",
        "outputId": "a5b3cd80-8ad8-429b-90ac-2dc5b8504837"
      },
      "execution_count": 31,
      "outputs": [
        {
          "output_type": "stream",
          "name": "stdout",
          "text": [
            "{'name': 'neeraj', 'age': 20, 'city': 'delhi'}\n"
          ]
        }
      ]
    },
    {
      "cell_type": "markdown",
      "source": [
        "22. Write a code to add a new key-value pair \"country\": \"USA\" to the dictionary {'name': 'John', 'age': 25}."
      ],
      "metadata": {
        "id": "UtRsKxTMGe6d"
      }
    },
    {
      "cell_type": "code",
      "source": [
        "my_dict = {\"name\":\"john\",\"age\":25}\n",
        "my_dict[\"country\"] = \"USA\"\n",
        "print(my_dict)"
      ],
      "metadata": {
        "colab": {
          "base_uri": "https://localhost:8080/"
        },
        "id": "adP7Tv9YGmkp",
        "outputId": "23df7e4f-31fb-4583-b554-9fe13ae0bc11"
      },
      "execution_count": 33,
      "outputs": [
        {
          "output_type": "stream",
          "name": "stdout",
          "text": [
            "{'name': 'john', 'age': 25, 'country': 'USA'}\n"
          ]
        }
      ]
    },
    {
      "cell_type": "markdown",
      "source": [
        "23.  Write a code to access the value associated with the key \"name\" in the dictionary {'name': 'Alice', 'age': 30}."
      ],
      "metadata": {
        "id": "ZUUwRMFPG-4k"
      }
    },
    {
      "cell_type": "code",
      "source": [
        "my_dict = {\"name\":\"alice\",\"age\":30}\n",
        "print(my_dict[\"name\"])"
      ],
      "metadata": {
        "colab": {
          "base_uri": "https://localhost:8080/"
        },
        "id": "SnihtSPKHD0z",
        "outputId": "f2408c62-8154-4d97-85e6-de95a88bedda"
      },
      "execution_count": 34,
      "outputs": [
        {
          "output_type": "stream",
          "name": "stdout",
          "text": [
            "alice\n"
          ]
        }
      ]
    },
    {
      "cell_type": "markdown",
      "source": [
        "24. Write a code to remove the key \"age\" from the dictionary {'name': 'Bob', 'age': 22, 'city': 'New York'}."
      ],
      "metadata": {
        "id": "KUMJoDlwHMpM"
      }
    },
    {
      "cell_type": "code",
      "source": [
        "my_dict = {'name': 'Bob', 'age': 22, 'city': 'New York'}\n",
        "del my_dict[\"age\"]\n",
        "print(my_dict)"
      ],
      "metadata": {
        "colab": {
          "base_uri": "https://localhost:8080/"
        },
        "id": "rIVPMmpsHRK1",
        "outputId": "7f8725e8-eeaf-472c-969d-d939b4f5773e"
      },
      "execution_count": 35,
      "outputs": [
        {
          "output_type": "stream",
          "name": "stdout",
          "text": [
            "{'name': 'Bob', 'city': 'New York'}\n"
          ]
        }
      ]
    },
    {
      "cell_type": "markdown",
      "source": [
        "25. Write a code to check if the key \"city\" exists in the dictionary {'name': 'Alice', 'city': 'Paris'}."
      ],
      "metadata": {
        "id": "gZwoVUmCHYcq"
      }
    },
    {
      "cell_type": "code",
      "source": [
        "my_dict = {'name': 'Alice', 'city': 'Paris'}\n",
        "print(\"city\" in my_dict)"
      ],
      "metadata": {
        "colab": {
          "base_uri": "https://localhost:8080/"
        },
        "id": "msoopXnMHc94",
        "outputId": "c274843c-9d15-42cf-b2b1-44d674b0a717"
      },
      "execution_count": 36,
      "outputs": [
        {
          "output_type": "stream",
          "name": "stdout",
          "text": [
            "True\n"
          ]
        }
      ]
    },
    {
      "cell_type": "markdown",
      "source": [
        "26. Write a code to create a list, a tuple, and a dictionary, and print them all."
      ],
      "metadata": {
        "id": "55oVErRZHk8z"
      }
    },
    {
      "cell_type": "code",
      "source": [
        "my_list = [1,2,3]\n",
        "my_tuple = (1,2,3)\n",
        "my_dict = {\"name\":\"neeraj\",\"age\":25}\n",
        "print(my_list)\n",
        "print(my_tuple)\n",
        "print(my_dict)"
      ],
      "metadata": {
        "colab": {
          "base_uri": "https://localhost:8080/"
        },
        "id": "Irqx-9GpHqez",
        "outputId": "bc424c15-d1fd-4951-97f2-194a3166cacc"
      },
      "execution_count": 38,
      "outputs": [
        {
          "output_type": "stream",
          "name": "stdout",
          "text": [
            "[1, 2, 3]\n",
            "(1, 2, 3)\n",
            "{'name': 'neeraj', 'age': 25}\n"
          ]
        }
      ]
    },
    {
      "cell_type": "markdown",
      "source": [
        "27.  Write a code to create a list of 5 random numbers between 1 and 100, sort it in ascending order, and print the\n",
        "result.(replaced)"
      ],
      "metadata": {
        "id": "kgKmwUlHITPR"
      }
    },
    {
      "cell_type": "code",
      "source": [
        "my_list = [11,50,3,40,66]\n",
        "my_list.sort()\n",
        "print(my_list)"
      ],
      "metadata": {
        "colab": {
          "base_uri": "https://localhost:8080/"
        },
        "id": "OeGIx9VmIe7g",
        "outputId": "b4d34972-fc25-4cd8-f5fb-32c66dd60c0b"
      },
      "execution_count": 40,
      "outputs": [
        {
          "output_type": "stream",
          "name": "stdout",
          "text": [
            "[3, 11, 40, 50, 66]\n"
          ]
        }
      ]
    },
    {
      "cell_type": "markdown",
      "source": [
        "28. Write a code to create a list with strings and print the element at the third index."
      ],
      "metadata": {
        "id": "B-h-IJSPI2tb"
      }
    },
    {
      "cell_type": "code",
      "source": [
        "my_list = [\"apple\",\"banana\",\"orange\"]\n",
        "print(my_list[2])"
      ],
      "metadata": {
        "colab": {
          "base_uri": "https://localhost:8080/"
        },
        "id": "GxymQKFwI6xz",
        "outputId": "42d86c05-7f25-42c2-9c51-9622cbddcb2e"
      },
      "execution_count": 41,
      "outputs": [
        {
          "output_type": "stream",
          "name": "stdout",
          "text": [
            "orange\n"
          ]
        }
      ]
    },
    {
      "cell_type": "markdown",
      "source": [
        "29. Write a code to combine two dictionaries into one and print the result."
      ],
      "metadata": {
        "id": "v9mLlV12JKpV"
      }
    },
    {
      "cell_type": "code",
      "source": [
        "my_dict1 = {\"name\":\"ajay\",\"age\":27}\n",
        "my_dict2 = {\"city\":\"delhi\",\"country\":\"india\"}\n",
        "my_dict1.update(my_dict2)\n",
        "print(my_dict1)"
      ],
      "metadata": {
        "colab": {
          "base_uri": "https://localhost:8080/"
        },
        "id": "lfArPzN1JPRc",
        "outputId": "204992dc-d749-40b7-bc67-e859dd2f8646"
      },
      "execution_count": 43,
      "outputs": [
        {
          "output_type": "stream",
          "name": "stdout",
          "text": [
            "{'name': 'ajay', 'age': 27, 'city': 'delhi', 'country': 'india'}\n"
          ]
        }
      ]
    },
    {
      "cell_type": "markdown",
      "source": [
        "30. Write a code to convert a list of strings into a set."
      ],
      "metadata": {
        "id": "e9EMeWvTJ2bS"
      }
    },
    {
      "cell_type": "code",
      "source": [
        "my_list = [\"apple\",\"banana\",\"orange\"]\n",
        "my_set = set(my_list)\n",
        "print(my_set)"
      ],
      "metadata": {
        "colab": {
          "base_uri": "https://localhost:8080/"
        },
        "id": "q3WQ767VJ-EC",
        "outputId": "5d44d151-6d8b-4142-aa6c-bbfaa822abeb"
      },
      "execution_count": 44,
      "outputs": [
        {
          "output_type": "stream",
          "name": "stdout",
          "text": [
            "{'banana', 'orange', 'apple'}\n"
          ]
        }
      ]
    }
  ]
}